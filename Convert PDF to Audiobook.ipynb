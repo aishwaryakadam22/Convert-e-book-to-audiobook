{
 "cells": [
  {
   "cell_type": "code",
   "execution_count": 1,
   "id": "046b461b",
   "metadata": {},
   "outputs": [
    {
     "name": "stdout",
     "output_type": "stream",
     "text": [
      "Requirement already satisfied: PyPDF2 in c:\\users\\aishwarya\\anaconda2\\lib\\site-packages (3.0.1)\n"
     ]
    }
   ],
   "source": [
    "!pip install PyPDF2\n",
    "# PyPDF2 allows manipulation of pdf in memory."
   ]
  },
  {
   "cell_type": "code",
   "execution_count": 2,
   "id": "aff46edc",
   "metadata": {},
   "outputs": [
    {
     "name": "stdout",
     "output_type": "stream",
     "text": [
      "Requirement already satisfied: pyttsx3 in c:\\users\\aishwarya\\anaconda2\\lib\\site-packages (2.90)\n",
      "Requirement already satisfied: comtypes in c:\\users\\aishwarya\\anaconda2\\lib\\site-packages (from pyttsx3) (1.2.0)\n",
      "Requirement already satisfied: pypiwin32 in c:\\users\\aishwarya\\anaconda2\\lib\\site-packages (from pyttsx3) (223)\n",
      "Requirement already satisfied: pywin32 in c:\\users\\aishwarya\\anaconda2\\lib\\site-packages (from pyttsx3) (305.1)\n"
     ]
    }
   ],
   "source": [
    "!pip install pyttsx3\n",
    "#The pyttsx3 library is capable of converting text to speech offline"
   ]
  },
  {
   "cell_type": "code",
   "execution_count": 3,
   "id": "e7c8b124",
   "metadata": {},
   "outputs": [
    {
     "name": "stdout",
     "output_type": "stream",
     "text": [
      "Requirement already satisfied: gTTS in c:\\users\\aishwarya\\anaconda2\\lib\\site-packages (2.3.2)\n",
      "Requirement already satisfied: requests<3,>=2.27 in c:\\users\\aishwarya\\anaconda2\\lib\\site-packages (from gTTS) (2.29.0)\n",
      "Requirement already satisfied: click<8.2,>=7.1 in c:\\users\\aishwarya\\anaconda2\\lib\\site-packages (from gTTS) (8.0.4)\n",
      "Requirement already satisfied: colorama in c:\\users\\aishwarya\\anaconda2\\lib\\site-packages (from click<8.2,>=7.1->gTTS) (0.4.6)\n",
      "Requirement already satisfied: charset-normalizer<4,>=2 in c:\\users\\aishwarya\\anaconda2\\lib\\site-packages (from requests<3,>=2.27->gTTS) (2.0.4)\n",
      "Requirement already satisfied: idna<4,>=2.5 in c:\\users\\aishwarya\\anaconda2\\lib\\site-packages (from requests<3,>=2.27->gTTS) (3.4)\n",
      "Requirement already satisfied: urllib3<1.27,>=1.21.1 in c:\\users\\aishwarya\\anaconda2\\lib\\site-packages (from requests<3,>=2.27->gTTS) (1.26.16)\n",
      "Requirement already satisfied: certifi>=2017.4.17 in c:\\users\\aishwarya\\anaconda2\\lib\\site-packages (from requests<3,>=2.27->gTTS) (2023.5.7)\n"
     ]
    }
   ],
   "source": [
    "! pip install gTTS\n"
   ]
  },
  {
   "cell_type": "code",
   "execution_count": null,
   "id": "42e2c3a4",
   "metadata": {},
   "outputs": [],
   "source": [
    "import PyPDF2\n",
    "from gtts import gTTS\n",
    "import os\n"
   ]
  },
  {
   "cell_type": "code",
   "execution_count": null,
   "id": "049d5e86",
   "metadata": {},
   "outputs": [],
   "source": [
    "# Open the PDF file in read-binary mode\n",
    "pdf_file = open('file1.pdf', 'rb')\n",
    "pdfReader = PyPDF2.PdfReader(pdf_file)"
   ]
  },
  {
   "cell_type": "code",
   "execution_count": null,
   "id": "3528b575",
   "metadata": {},
   "outputs": [],
   "source": [
    "# Initialize text-to-speech engine\n",
    "speaker_text = ''  # Initialize an empty string to store the extracted text\n"
   ]
  },
  {
   "cell_type": "code",
   "execution_count": null,
   "id": "6cc1b4d1",
   "metadata": {},
   "outputs": [],
   "source": [
    "# Iterate through each page of the PDF\n",
    "for page_num in range(len(pdfReader.pages)):\n",
    "    page = pdfReader.pages[page_num]\n",
    "    text = page.extract_text()\n",
    "    \n",
    "    # Add extracted text to the speaker_text\n",
    "    speaker_text += text\n"
   ]
  },
  {
   "cell_type": "code",
   "execution_count": null,
   "id": "ad64658b",
   "metadata": {},
   "outputs": [],
   "source": [
    "# Close the PDF file\n",
    "pdf_file.close()"
   ]
  },
  {
   "cell_type": "code",
   "execution_count": null,
   "id": "1887055f",
   "metadata": {
    "scrolled": true
   },
   "outputs": [],
   "source": [
    "# Check if extracted text is empty\n",
    "if not speaker_text.strip():\n",
    "    print(\"No text found in the PDF.\")\n",
    "else:\n",
    "    # Initialize gTTS with the accumulated text\n",
    "    speaker = gTTS(text=speaker_text)\n",
    "\n",
    "    # Save the audio to an MP3 file\n",
    "    audio_file = 'audio1.mp3'\n",
    "    speaker.save(audio_file)\n",
    "\n",
    "    # Play the audio\n",
    "    os.system(f\"start {audio_file}\")  # This command works on Windows, adjust for other OS\n",
    "\n"
   ]
  },
  {
   "cell_type": "code",
   "execution_count": null,
   "id": "82261fc3",
   "metadata": {},
   "outputs": [],
   "source": [
    "# Save the audio to an MP3 file\n",
    "audio_file = 'audio1.mp3'\n",
    "speaker.save(audio_file)\n",
    "\n",
    "# Play the audio\n",
    "os.system(f\"start {audio_file}\")  # This command works on Windows, adjust for other OS\n"
   ]
  },
  {
   "cell_type": "code",
   "execution_count": null,
   "id": "dfd38790",
   "metadata": {},
   "outputs": [],
   "source": []
  }
 ],
 "metadata": {
  "kernelspec": {
   "display_name": "Python 3 (ipykernel)",
   "language": "python",
   "name": "python3"
  },
  "language_info": {
   "codemirror_mode": {
    "name": "ipython",
    "version": 3
   },
   "file_extension": ".py",
   "mimetype": "text/x-python",
   "name": "python",
   "nbconvert_exporter": "python",
   "pygments_lexer": "ipython3",
   "version": "3.11.3"
  }
 },
 "nbformat": 4,
 "nbformat_minor": 5
}
